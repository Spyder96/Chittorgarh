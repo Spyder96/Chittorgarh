{
 "cells": [
  {
   "cell_type": "code",
   "execution_count": 3,
   "metadata": {},
   "outputs": [],
   "source": [
    "from  bs4 import BeautifulSoup\n",
    "import requests\n",
    "import pandas as pd\n",
    "import numpy as np\n",
    "import json\n",
    "import re\n",
    "import datetime\n",
    "import psycopg2 as pg\n",
    "import time\n",
    "from psycopg2 import extras  as pgextras\n",
    "import pymongo\n",
    "from tqdm import tqdm\n",
    "import os\n",
    "import logging\n",
    "#from Database import MongoDB\n",
    "Headers=({'User-Agent':'Mozilla/5.0 (Windows NT 10.0; Win64; x64; rv:109.0) Gecko/20100101 Firefox/111.0' , 'Accept-language':'en-US , en;q=0.5'})\n",
    "URL = \"https://www.chittorgarh.com/report/mainboard-ipo-list-in-india-bse-nse/83/\"\n",
    "PRD_URL = \"https://www.chittorgarh.com/ipo/netweb-technologies-india-ipo/1459/\""
   ]
  },
  {
   "cell_type": "code",
   "execution_count": 4,
   "metadata": {},
   "outputs": [],
   "source": [
    "try: \n",
    "    webpage=requests.get(PRD_URL,headers=Headers)\n",
    "except Exception as e:\n",
    "    logging.error(f\"-Page Unavailable : {e}\") \n",
    "#Creating initial soup file\n",
    "soup = BeautifulSoup(webpage.content,\"html.parser\")\n",
    "#searching for product links available in the page"
   ]
  },
  {
   "cell_type": "code",
   "execution_count": 3,
   "metadata": {},
   "outputs": [
    {
     "name": "stdout",
     "output_type": "stream",
     "text": [
      "[]\n"
     ]
    }
   ],
   "source": [
    "table = soup.find(\"table\", attrs={'class': 'table table-bordered table-striped table-hover w-auto'})\n",
    "links = table.find_all('a')\n",
    "\n",
    "href_list = []\n",
    "for link in links:\n",
    "    href = link.get('href')\n",
    "    if href and href.startswith(\"https://www.chittorgarh.com/ipo/\"):\n",
    "        href_list.append(href)\n",
    "\n",
    "print(href_list)"
   ]
  },
  {
   "attachments": {},
   "cell_type": "markdown",
   "metadata": {},
   "source": []
  },
  {
   "cell_type": "code",
   "execution_count": 4,
   "metadata": {},
   "outputs": [
    {
     "data": {
      "text/plain": [
       "[]"
      ]
     },
     "execution_count": 4,
     "metadata": {},
     "output_type": "execute_result"
    }
   ],
   "source": [
    "links"
   ]
  },
  {
   "cell_type": "code",
   "execution_count": 13,
   "metadata": {},
   "outputs": [],
   "source": [
    "import unicodedata\n",
    "from unidecode import unidecode\n",
    "\n",
    "def soup_table_data(table):\n",
    "    data = {}\n",
    "    if table is None:\n",
    "        data = {\"No Data Available\" : \"No Data\"}\n",
    "    else:\n",
    "        rows = table.find_all('tr')\n",
    "        if rows:\n",
    "            for row in rows:\n",
    "                cells = row.find_all(['th', 'td'])\n",
    "                for cell in cells:\n",
    "                    try:\n",
    "                        key = cells[0].text.strip()\n",
    "                    except:\n",
    "                        key = \"NA\"\n",
    "                    try:\n",
    "                        value = cell.text.strip()\n",
    "                    except:\n",
    "                        value = \"NA\"\n",
    "                    value = unicodedata.normalize('NFKD', value).encode('ascii', 'ignore').decode('utf-8')\n",
    "                    value = re.sub(r'[^\\x00-\\x7F\\u20b9]+', '', value) \n",
    "                    value = re.sub(r'[^\\x00-\\x7F]+', '', value)  # Remove non-ASCII characters\n",
    "                    value = unidecode(value)\n",
    "                    key = re.sub(' ', '_' , key)\n",
    "                    data[key] = value\n",
    "        else:\n",
    "            data = {\"No Data Available\" : \"No data\"}\n",
    "    return data\n"
   ]
  },
  {
   "cell_type": "code",
   "execution_count": 14,
   "metadata": {},
   "outputs": [
    {
     "name": "stdout",
     "output_type": "stream",
     "text": [
      "{'IPO_Date': 'Jul 17, 2023 to Jul 19, 2023', 'Listing_Date': '[.]', 'Face_Value': '2 per share', 'Price': '475 to 500 per share', 'Lot_Size': '30 Shares', 'Total_Issue_Size': '12,620,000 shares (aggregating up to 631.00 Cr)', 'Fresh_Issue': '4,120,000 shares (aggregating up to 206.00 Cr)', 'Offer_for_Sale': '8,500,000 shares of 2 (aggregating up to 425.00 Cr)', 'Employee_Discount': 'Rs 25 per share', 'Issue_Type': 'Book Built Issue IPO', 'Listing_At': 'BSE, NSE', 'Share_holding_pre_issue': '50,923,980', 'Share_holding_post_issue': '55,043,980'}\n",
      "{'Anchor_Investor_Shares_Offered': '3,780,300 (29.95%)', 'QIB_Shares_Offered': '2,520,200 (19.97%)', 'NII_(HNI)_Shares_Offered': '1,890,150 (14.98%)', 'Retail_Shares_Offered': '4,410,350 (34.95%)', 'Employee_Shares_Offered': '19,000 (0.15%)', 'Total_Shares_Offered': '12,620,000 (100%)'}\n",
      "{'Bid_Date': 'Jul 14, 2023', 'Shares_Offered': '3,780,300', 'Anchor_Portion_Size_(In_Cr.)': '189.02', 'Anchor_lock-in_period_end_date_for_50%_shares_(30_Days)': 'Sep 5, 2023', 'Anchor_lock-in_period_end_date_for_remaining_shares_(90_Days)': 'Dec 5, 2023'}\n",
      "{'Event': 'Tentative Date', 'Opening_Date': 'Monday, 17 July 2023', 'Closing_Date': 'Wednesday, 19 July 2023', 'Basis_of_Allotment': 'Monday, 24 July 2023', 'Initiation_of_Refunds': 'Tuesday, 25 July 2023', 'Credit_of_Shares_to_Demat': 'Wednesday, 26 July 2023', 'Listing_Date': 'Thursday, 27 July 2023', 'Cut-off_time_for_UPI_mandate_confirmation': '5 PM on Jul 19, 2023'}\n",
      "{'Application': 'Amount', 'Retail_(Min)': '15,000', 'Retail_(Max)': '195,000', 'S-HNI_(Min)': '210,000', 'S-HNI_(Max)': '990,000', 'B-HNI_(Min)': '1,005,000', 'Lot_Size_Calculator': 'Lot Size Calculator'}\n",
      "{'Pre_Issue_Share_Holding': '97.80%', 'Post_Issue_Share_Holding': '75.45%'}\n",
      "{'KPI': 'Values', 'P/E_(x)': '59.67', 'Market_Cap_(₹_Cr.)': '2803.2', 'ROE': '68.01%', 'ROCE': '64.42%', 'Debt/Equity': '0.3', 'EPS_(Rs)': '9.22', 'RoNW': '68.01%'}\n",
      "{'Review_By': 'Avoid', 'Brokers': '0', 'Members': '2'}\n"
     ]
    }
   ],
   "source": [
    "#soup.find('h2', itemprop='about', class_='border-bottom').text.replace()\n",
    "company_name = soup.find('h2', itemprop='about', class_='border-bottom').text.replace(\" Details\",'')\n",
    "tables = soup.find_all(\"table\", attrs={'class':\"table table-bordered table-striped table-hover w-auto\"})\n",
    "all_table_data = {}\n",
    "for table in tables:\n",
    "    table_data = soup_table_data(table)\n",
    "    print(table_data)\n",
    "    all_table_data.update(table_data)\n",
    "json_data = json.dumps(all_table_data,indent=4)\n",
    "with open('{company_name}.json', 'w') as file:\n",
    "    json.dump(all_table_data, file, indent=4, ensure_ascii= False)"
   ]
  },
  {
   "cell_type": "code",
   "execution_count": null,
   "metadata": {},
   "outputs": [],
   "source": []
  }
 ],
 "metadata": {
  "kernelspec": {
   "display_name": "base",
   "language": "python",
   "name": "python3"
  },
  "language_info": {
   "codemirror_mode": {
    "name": "ipython",
    "version": 3
   },
   "file_extension": ".py",
   "mimetype": "text/x-python",
   "name": "python",
   "nbconvert_exporter": "python",
   "pygments_lexer": "ipython3",
   "version": "3.9.12"
  },
  "orig_nbformat": 4
 },
 "nbformat": 4,
 "nbformat_minor": 2
}
